{
 "cells": [
  {
   "cell_type": "markdown",
   "id": "adc19098",
   "metadata": {},
   "source": [
    "### Strings and string operations\n",
    "This notebook explains how string operations can be performed. It's just an overview.\n",
    "You can see all the string methods here - [CLICK HERE](https://docs.python.org/3/library/stdtypes.html#string-methods)"
   ]
  },
  {
   "cell_type": "code",
   "execution_count": null,
   "id": "d743c81f",
   "metadata": {},
   "outputs": [
    {
     "name": "stdout",
     "output_type": "stream",
     "text": [
      "WE SAW A SNAKE IN THE BUSH\n"
     ]
    }
   ],
   "source": [
    "s1 = \"We saw a snake in the bush\"\n",
    "\n",
    "# Some properties of strings:\n",
    "# 1. Strings are immutable\n",
    "# So any operation that you perform on string, returns a new string rather than manipulating the current string.\n",
    "\n",
    "# To change the entire string in uppercase\n",
    "s1_upper = s1.upper()\n",
    "print(s1_upper)\n",
    "\n",
    "# Similarly we have lower"
   ]
  },
  {
   "cell_type": "code",
   "execution_count": 17,
   "id": "c11a193a",
   "metadata": {},
   "outputs": [
    {
     "data": {
      "text/plain": [
       "'vit girls ARE nO LESS THAN TRAILER PARK GIRLS!'"
      ]
     },
     "execution_count": 17,
     "metadata": {},
     "output_type": "execute_result"
    }
   ],
   "source": [
    "# We have swap case too\n",
    "# It swaps upper case chars with lower case\n",
    "(\"VIT GIRLS are No less than trailer park girls!\").swapcase()"
   ]
  },
  {
   "cell_type": "code",
   "execution_count": 6,
   "id": "1c219592",
   "metadata": {},
   "outputs": [
    {
     "name": "stdout",
     "output_type": "stream",
     "text": [
      "We saw a snake in the bush\n"
     ]
    }
   ],
   "source": [
    "s1_capital = s1.capitalize()\n",
    "# Only the first alphabet becomes capital\n",
    "print(s1_capital)"
   ]
  },
  {
   "cell_type": "code",
   "execution_count": 7,
   "id": "d0246399",
   "metadata": {},
   "outputs": [
    {
     "data": {
      "text/plain": [
       "'We Saw A Snake In The Bush'"
      ]
     },
     "execution_count": 7,
     "metadata": {},
     "output_type": "execute_result"
    }
   ],
   "source": [
    "# If we want that every first alphabet of each word of the string should be capital\n",
    "# then use .title method\n",
    "s1.title()"
   ]
  },
  {
   "cell_type": "code",
   "execution_count": 10,
   "id": "572fe7e7",
   "metadata": {},
   "outputs": [
    {
     "name": "stdout",
     "output_type": "stream",
     "text": [
      "True\n"
     ]
    }
   ],
   "source": [
    "# endswith method\n",
    "abuse = \"Yamero temme kusoyaru, haage!\"\n",
    "output = abuse.endswith(\"haage!\")\n",
    "print(output)"
   ]
  },
  {
   "cell_type": "code",
   "execution_count": 11,
   "id": "9939a7de",
   "metadata": {},
   "outputs": [
    {
     "name": "stdout",
     "output_type": "stream",
     "text": [
      "False\n"
     ]
    }
   ],
   "source": [
    "output = abuse.endswith(\"haage\")\n",
    "print(output)"
   ]
  },
  {
   "cell_type": "code",
   "execution_count": 12,
   "id": "16d29f0f",
   "metadata": {},
   "outputs": [
    {
     "data": {
      "text/plain": [
       "True"
      ]
     },
     "execution_count": 12,
     "metadata": {},
     "output_type": "execute_result"
    }
   ],
   "source": [
    "# Similarly we have startswith\n",
    "abuse.startswith(\"Yamero\")"
   ]
  },
  {
   "cell_type": "code",
   "execution_count": 14,
   "id": "f5f8c265",
   "metadata": {},
   "outputs": [
    {
     "data": {
      "text/plain": [
       "7"
      ]
     },
     "execution_count": 14,
     "metadata": {},
     "output_type": "execute_result"
    }
   ],
   "source": [
    "# Returns the index, of the first occurence of the string, character string, or substring\n",
    "abuse.index(\"temme\")"
   ]
  },
  {
   "cell_type": "code",
   "execution_count": null,
   "id": "69e119e9",
   "metadata": {},
   "outputs": [
    {
     "data": {
      "text/plain": [
       "False"
      ]
     },
     "execution_count": 15,
     "metadata": {},
     "output_type": "execute_result"
    }
   ],
   "source": [
    "# isalpha method\n",
    "# Alpha - [a-z,A-Z] not [0-9]\n",
    "username = \"aditya991\"\n",
    "username.isalpha()"
   ]
  },
  {
   "cell_type": "code",
   "execution_count": 16,
   "id": "354072b8",
   "metadata": {},
   "outputs": [
    {
     "data": {
      "text/plain": [
       "True"
      ]
     },
     "execution_count": 16,
     "metadata": {},
     "output_type": "execute_result"
    }
   ],
   "source": [
    "# isalnum is isalpha + [0-9]\n",
    "username.isalnum()"
   ]
  },
  {
   "cell_type": "code",
   "execution_count": null,
   "id": "4b9a3459",
   "metadata": {},
   "outputs": [],
   "source": [
    "# methods like islower and isupper are used to check if it's in lower or upper respectively\n",
    "# Try it on your own :D\n",
    "\n",
    "# Join method\n",
    "# List is our iterable\n",
    "crcl = [\"Chicken\", \"Egg curry\", \"Aloo paratha\", \"So called veg biriyani(AKA pulao)\"]\n",
    "\n",
    "# Syntax:-\n",
    "# seperator.join(iterable/list)\n",
    "# seperator is string\n",
    "\n",
    "output_str = \",\".join(crcl) # \",\" is seperator\n",
    "print(output_str)"
   ]
  }
 ],
 "metadata": {
  "kernelspec": {
   "display_name": "Python 3",
   "language": "python",
   "name": "python3"
  },
  "language_info": {
   "codemirror_mode": {
    "name": "ipython",
    "version": 3
   },
   "file_extension": ".py",
   "mimetype": "text/x-python",
   "name": "python",
   "nbconvert_exporter": "python",
   "pygments_lexer": "ipython3",
   "version": "3.12.0"
  }
 },
 "nbformat": 4,
 "nbformat_minor": 5
}
