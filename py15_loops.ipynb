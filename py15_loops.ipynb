{
 "cells": [
  {
   "cell_type": "markdown",
   "id": "65a37f3d",
   "metadata": {},
   "source": [
    "### 1. Continue and break keyword in loops"
   ]
  },
  {
   "cell_type": "code",
   "execution_count": 2,
   "id": "5dfa580d",
   "metadata": {},
   "outputs": [
    {
     "name": "stdout",
     "output_type": "stream",
     "text": [
      "1\n",
      "2\n",
      "3\n",
      "4\n",
      "5\n",
      "6\n",
      "7\n",
      "Thala for a reason\n"
     ]
    }
   ],
   "source": [
    "# Break keyword\n",
    "for i in range(1, 11):\n",
    "    print(i)\n",
    "    if i == 7:\n",
    "        print(\"Thala for a reason\")\n",
    "        break # breaks out of the loop\n",
    "\n",
    "# Break keyword breaks the loop as soon as it is encountered"
   ]
  },
  {
   "cell_type": "code",
   "execution_count": 4,
   "id": "9a8903cd",
   "metadata": {},
   "outputs": [
    {
     "name": "stdout",
     "output_type": "stream",
     "text": [
      "5 x 1 = 5\n",
      "5 x 2 = 10\n",
      "5 x 3 = 15\n",
      "5 x 4 = 20\n",
      "5 x 5 = 25\n",
      "6 is a bad number, let's skip this one\n",
      "5 x 7 = 35\n",
      "5 x 8 = 40\n",
      "5 x 9 = 45\n",
      "5 x 10 = 50\n"
     ]
    }
   ],
   "source": [
    "# Continue keyword skips a particular iteration/epoch in ml\n",
    "\n",
    "n = int(input(\"Enter integer: \"))\n",
    "for i in range(1, 11):\n",
    "    if i == 6:\n",
    "        print(\"6 is a bad number, let's skip this one\")\n",
    "        continue\n",
    "        # When we encounter continue, it goes back to the condition\n",
    "        # i == 6 ko chhodo, i += 1 matlab i == 7 banake condition pe pahunch jao\n",
    "    print(f\"{n} x {i} = {n * i}\")\n"
   ]
  }
 ],
 "metadata": {
  "kernelspec": {
   "display_name": "Python 3",
   "language": "python",
   "name": "python3"
  },
  "language_info": {
   "codemirror_mode": {
    "name": "ipython",
    "version": 3
   },
   "file_extension": ".py",
   "mimetype": "text/x-python",
   "name": "python",
   "nbconvert_exporter": "python",
   "pygments_lexer": "ipython3",
   "version": "3.12.0"
  }
 },
 "nbformat": 4,
 "nbformat_minor": 5
}
