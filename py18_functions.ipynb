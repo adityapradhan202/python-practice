{
 "cells": [
  {
   "cell_type": "markdown",
   "id": "9c4e979b",
   "metadata": {},
   "source": [
    "### 1. Types of parameters in fuctions\n",
    "1. Positional arguments\n",
    "2. Keyword arguments\n",
    "3. Default arguments\n",
    "4. Variable arguments"
   ]
  },
  {
   "cell_type": "code",
   "execution_count": 3,
   "id": "1e480adf",
   "metadata": {},
   "outputs": [
    {
     "name": "stdout",
     "output_type": "stream",
     "text": [
      "7\n"
     ]
    }
   ],
   "source": [
    "def myfunc(a, b):\n",
    "    # We can't access this sum outside the myfunc\n",
    "    # sum will be deleted as soon as the function terminates\n",
    "    sum = a + b\n",
    "    print(sum)\n",
    "\n",
    "# Calling function\n",
    "myfunc(3,4) # 3,4 are arguments"
   ]
  },
  {
   "cell_type": "markdown",
   "id": "b06a4b19",
   "metadata": {},
   "source": [
    "**Difference between parameter and arguuments:**\n",
    "* Paramters are place holders, like a or b\n",
    "* Arguments are actual values passed in the function in place of a or b"
   ]
  },
  {
   "cell_type": "code",
   "execution_count": 13,
   "id": "fcd0b70d",
   "metadata": {},
   "outputs": [],
   "source": [
    "# Function returning a value or object\n",
    "def find_indices(some_list:list, target:int):\n",
    "    # Not mandatory to mention the type of parameter\n",
    "    indices  = []\n",
    "    for i in range(len(some_list)):\n",
    "        if some_list[i] == target:\n",
    "            indices.append(i)\n",
    "\n",
    "    #  Use return keyword to return something\n",
    "    print(\"Function has been called by you!\")\n",
    "    return indices\n",
    "    print(\"ABCD\") \n",
    "    # This print function wont be executed ever!\n",
    "    # As soon as we encounter return, value will be returned,\n",
    "    # and function will be terminated\n"
   ]
  },
  {
   "cell_type": "code",
   "execution_count": 14,
   "id": "a41b85c0",
   "metadata": {},
   "outputs": [
    {
     "name": "stdout",
     "output_type": "stream",
     "text": [
      "Function has been called by you!\n",
      "[5, 11] <class 'list'>\n"
     ]
    }
   ],
   "source": [
    "numbers = [6, 7, 6, 7, 6, 15, 7, 8, 9, 9, 10, 15]\n",
    "\n",
    "# Positional arguments - Pass at specific position in correspondance of the placeholder\n",
    "# You need to pass the arguments in specific order according to placeholder\n",
    "output = find_indices(numbers, 15)\n",
    "print(output, type(output))"
   ]
  },
  {
   "cell_type": "markdown",
   "id": "6460075b",
   "metadata": {},
   "source": [
    "**Why we use functions**\n",
    "* Makes the code resuable\n",
    "* Makes the code maintainable and readable"
   ]
  },
  {
   "cell_type": "code",
   "execution_count": 15,
   "id": "1db0f870",
   "metadata": {},
   "outputs": [
    {
     "name": "stdout",
     "output_type": "stream",
     "text": [
      "Function has been called by you!\n",
      "Result number - 1\n",
      "[5, 11]\n",
      "Function has been called by you!\n",
      "Result number - 2\n",
      "[0, 2]\n",
      "Function has been called by you!\n",
      "Result number - 3\n",
      "[3, 6]\n"
     ]
    }
   ],
   "source": [
    "# Function can be called within a loop\n",
    "data = [\n",
    "    [6, 7, 6, 7, 6, 15, 7, 8, 9, 9, 10, 15],\n",
    "    [6, 7, 6, 8, 9, 15, 7, 8, 9, 9, 12, 15],\n",
    "    [6, 8, 6, 7, 6, 11, 7, 8, 9, 9, 13, 15]\n",
    "]\n",
    "\n",
    "target = [15, 6, 7]\n",
    "for i in range(len(data)):\n",
    "    res = find_indices(data[i], target[i])\n",
    "    print(f\"Result number - {i+1}\")\n",
    "    print(res)\n"
   ]
  },
  {
   "cell_type": "code",
   "execution_count": 16,
   "id": "d8d456d9",
   "metadata": {},
   "outputs": [
    {
     "name": "stdout",
     "output_type": "stream",
     "text": [
      "Function has been called by you!\n"
     ]
    },
    {
     "data": {
      "text/plain": [
       "[1, 4]"
      ]
     },
     "execution_count": 16,
     "metadata": {},
     "output_type": "execute_result"
    }
   ],
   "source": [
    "# Keyword arguments\n",
    "find_indices(target=5, some_list=[4,5,4,4,5])"
   ]
  },
  {
   "cell_type": "code",
   "execution_count": 17,
   "id": "06e0aa6f",
   "metadata": {},
   "outputs": [],
   "source": [
    "def avg(a,b,c=10):\n",
    "    pass"
   ]
  },
  {
   "cell_type": "code",
   "execution_count": 18,
   "id": "759f47da",
   "metadata": {},
   "outputs": [
    {
     "data": {
      "text/plain": [
       "6.333333333333333"
      ]
     },
     "execution_count": 18,
     "metadata": {},
     "output_type": "execute_result"
    }
   ],
   "source": [
    "def avg(a,b,c=10):\n",
    "    # Always the default args are on the left side\n",
    "    # If I dont give anything for the value of c, while function calling, it will use the default value 10\n",
    "    # Otherwise it will override the value of c\n",
    "\n",
    "    return (a + b + c) / 3\n",
    "\n",
    "avg(a=4,b=5)"
   ]
  },
  {
   "cell_type": "code",
   "execution_count": 19,
   "id": "20737b9b",
   "metadata": {},
   "outputs": [
    {
     "data": {
      "text/plain": [
       "36.333333333333336"
      ]
     },
     "execution_count": 19,
     "metadata": {},
     "output_type": "execute_result"
    }
   ],
   "source": [
    "avg(a=4,b=5,c=100)"
   ]
  },
  {
   "cell_type": "code",
   "execution_count": 21,
   "id": "dc25702f",
   "metadata": {},
   "outputs": [
    {
     "name": "stdout",
     "output_type": "stream",
     "text": [
      "7.5\n"
     ]
    }
   ],
   "source": [
    "def take_average(*var_array):\n",
    "    # Put * to turn arg. into variable arg.\n",
    "    # Actually var_array is  a TUPLE\n",
    "    total = sum(var_array)\n",
    "    average = total / len(var_array)\n",
    "    print(average)\n",
    "\n",
    "take_average(5,6,7,8,9,10)"
   ]
  },
  {
   "cell_type": "code",
   "execution_count": 24,
   "id": "45baa069",
   "metadata": {},
   "outputs": [
    {
     "name": "stdout",
     "output_type": "stream",
     "text": [
      "{'name': 'Aditya', 'age': 21, 'gender': 'male', 'branch': 'cse-aiml'} <class 'dict'>\n"
     ]
    }
   ],
   "source": [
    "def take_average2(**dict_input):\n",
    "    print(dict_input, type(dict_input))\n",
    "\n",
    "take_average2(\n",
    "    name=\"Aditya\",\n",
    "    age=21,\n",
    "    gender=\"male\",\n",
    "    branch=\"cse-aiml\"\n",
    ")"
   ]
  }
 ],
 "metadata": {
  "kernelspec": {
   "display_name": "Python 3",
   "language": "python",
   "name": "python3"
  },
  "language_info": {
   "codemirror_mode": {
    "name": "ipython",
    "version": 3
   },
   "file_extension": ".py",
   "mimetype": "text/x-python",
   "name": "python",
   "nbconvert_exporter": "python",
   "pygments_lexer": "ipython3",
   "version": "3.12.0"
  }
 },
 "nbformat": 4,
 "nbformat_minor": 5
}
