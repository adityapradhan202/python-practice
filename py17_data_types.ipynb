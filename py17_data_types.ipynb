{
 "cells": [
  {
   "cell_type": "markdown",
   "id": "ecb44706",
   "metadata": {},
   "source": [
    "### 1. List"
   ]
  },
  {
   "cell_type": "code",
   "execution_count": 1,
   "id": "c3d9f43c",
   "metadata": {},
   "outputs": [
    {
     "name": "stdout",
     "output_type": "stream",
     "text": [
      "['python', 'java', 'cpp']\n"
     ]
    }
   ],
   "source": [
    "# List is dynamic array\n",
    "# It's size is dynamically changed\n",
    "# It's size increase or decreases automatically, depends on the number of elements we are putting inside it\n",
    "# Behind the scenes static arrays/list work, to provide us all these features\n",
    "\n",
    "# Syntax for list\n",
    "langs = [\"python\", \"java\", \"cpp\"]\n",
    "print(langs)"
   ]
  },
  {
   "cell_type": "code",
   "execution_count": 2,
   "id": "1406954f",
   "metadata": {},
   "outputs": [
    {
     "name": "stdout",
     "output_type": "stream",
     "text": [
      "3\n"
     ]
    }
   ],
   "source": [
    "print(len(langs))"
   ]
  },
  {
   "cell_type": "code",
   "execution_count": null,
   "id": "8d73b369",
   "metadata": {},
   "outputs": [
    {
     "name": "stdout",
     "output_type": "stream",
     "text": [
      "python\n"
     ]
    }
   ],
   "source": [
    "print(langs[0]) # Accessing zero index"
   ]
  },
  {
   "cell_type": "code",
   "execution_count": 4,
   "id": "0907b82e",
   "metadata": {},
   "outputs": [
    {
     "name": "stdout",
     "output_type": "stream",
     "text": [
      "python\n",
      "java\n",
      "cpp\n"
     ]
    }
   ],
   "source": [
    "# How loops are used with list/or any other sequential data type\n",
    "for i in range(len(langs)):\n",
    "    # i = 0, 1, ...2\n",
    "    print(langs[i])"
   ]
  },
  {
   "cell_type": "code",
   "execution_count": 5,
   "id": "2a43e9f9",
   "metadata": {},
   "outputs": [
    {
     "name": "stdout",
     "output_type": "stream",
     "text": [
      "python\n",
      "java\n",
      "cpp\n"
     ]
    }
   ],
   "source": [
    "for l in langs:\n",
    "    print(l)"
   ]
  },
  {
   "cell_type": "code",
   "execution_count": 6,
   "id": "b28ce52e",
   "metadata": {},
   "outputs": [
    {
     "name": "stdout",
     "output_type": "stream",
     "text": [
      "['SEEE', 'SMEC', 'SCOPE', 'SCAI', 'SBET']\n"
     ]
    }
   ],
   "source": [
    "# Methods of list\n",
    "# Read about all the methods here - https://docs.python.org/3/tutorial/datastructures.html\n",
    "\n",
    "# append\n",
    "schools = [\"SEEE\", \"SMEC\", \"SCOPE\", \"SCAI\"]\n",
    "schools.append(\"SBET\")\n",
    "print(schools)"
   ]
  },
  {
   "cell_type": "code",
   "execution_count": 7,
   "id": "f3912a59",
   "metadata": {},
   "outputs": [
    {
     "name": "stdout",
     "output_type": "stream",
     "text": [
      "SBET\n"
     ]
    }
   ],
   "source": [
    "# pop method removes the last element, and returns it\n",
    "last_school = schools.pop()\n",
    "print(last_school)"
   ]
  },
  {
   "cell_type": "code",
   "execution_count": 8,
   "id": "aa60d40b",
   "metadata": {},
   "outputs": [
    {
     "data": {
      "text/plain": [
       "['SEEE', 'SMEC', 'SCOPE', 'SCAI']"
      ]
     },
     "execution_count": 8,
     "metadata": {},
     "output_type": "execute_result"
    }
   ],
   "source": [
    "schools"
   ]
  },
  {
   "cell_type": "code",
   "execution_count": 9,
   "id": "40c9ba59",
   "metadata": {},
   "outputs": [
    {
     "name": "stdout",
     "output_type": "stream",
     "text": [
      "1\n"
     ]
    }
   ],
   "source": [
    "smec_ind = schools.index(\"SMEC\") # Returns index of first occurence\n",
    "print(smec_ind)"
   ]
  },
  {
   "cell_type": "code",
   "execution_count": 10,
   "id": "e49c06f4",
   "metadata": {},
   "outputs": [
    {
     "name": "stdout",
     "output_type": "stream",
     "text": [
      "Index of SMEC is 1\n"
     ]
    }
   ],
   "source": [
    "# How index works manually\n",
    "i = 0\n",
    "while i < len(schools):\n",
    "    if schools[i] == \"SMEC\":\n",
    "        print(f\"Index of SMEC is {i}\")\n",
    "    i += 1"
   ]
  },
  {
   "cell_type": "code",
   "execution_count": 12,
   "id": "80c786c7",
   "metadata": {},
   "outputs": [
    {
     "name": "stdout",
     "output_type": "stream",
     "text": [
      "[100, 6, 7]\n"
     ]
    }
   ],
   "source": [
    "# Copy method and concept of reference variable\n",
    "# Also using identity operator\n",
    "\n",
    "l1 = [5, 6, 7]\n",
    "l2 = [5, 6, 7]\n",
    "l1_v2 = l1 # l1_v2 becomes a reference or alias name for l1\n",
    "\n",
    "# Making changes in l1_v2\n",
    "l1_v2[0] = 100\n",
    "print(l1) # Printing original"
   ]
  },
  {
   "cell_type": "code",
   "execution_count": 14,
   "id": "d281f4bd",
   "metadata": {},
   "outputs": [
    {
     "name": "stdout",
     "output_type": "stream",
     "text": [
      "[5, 6, 7]\n"
     ]
    }
   ],
   "source": [
    "# To prevent this we can use copy method\n",
    "l1 = [5, 6, 7]\n",
    "l1_v2 = l1.copy()\n",
    "l1_v2[0] = 500\n",
    "print(l1) # Original wont change"
   ]
  },
  {
   "cell_type": "code",
   "execution_count": 16,
   "id": "25bb1bf1",
   "metadata": {},
   "outputs": [
    {
     "name": "stdout",
     "output_type": "stream",
     "text": [
      "False\n"
     ]
    }
   ],
   "source": [
    "# Using identity operator\n",
    "if l1 is l1_v2:\n",
    "    print(True)\n",
    "else:\n",
    "    print(False)"
   ]
  },
  {
   "cell_type": "code",
   "execution_count": 17,
   "id": "2120acd0",
   "metadata": {},
   "outputs": [
    {
     "name": "stdout",
     "output_type": "stream",
     "text": [
      "[4, 6, 7, 8, 9, 55, 69, 100]\n"
     ]
    }
   ],
   "source": [
    "# Sort method in list\n",
    "v = [4, 55, 6, 7, 8, 9, 100, 69]\n",
    "v.sort()\n",
    "print(v)"
   ]
  },
  {
   "cell_type": "code",
   "execution_count": 18,
   "id": "18a34f75",
   "metadata": {},
   "outputs": [
    {
     "name": "stdout",
     "output_type": "stream",
     "text": [
      "[100, 69, 55, 9, 8, 7, 6, 4]\n"
     ]
    }
   ],
   "source": [
    "v.sort(reverse=True)\n",
    "print(v)"
   ]
  },
  {
   "cell_type": "code",
   "execution_count": 21,
   "id": "42625f02",
   "metadata": {},
   "outputs": [
    {
     "data": {
      "text/plain": [
       "0"
      ]
     },
     "execution_count": 21,
     "metadata": {},
     "output_type": "execute_result"
    }
   ],
   "source": [
    "v.count(99) # 99 is not there, so returns 0"
   ]
  },
  {
   "cell_type": "code",
   "execution_count": 22,
   "id": "78cf5186",
   "metadata": {},
   "outputs": [
    {
     "name": "stdout",
     "output_type": "stream",
     "text": [
      "[] 0\n"
     ]
    }
   ],
   "source": [
    "# Syntax for empty list\n",
    "empty_list = []\n",
    "print(empty_list, len(empty_list))"
   ]
  },
  {
   "cell_type": "markdown",
   "id": "a8296567",
   "metadata": {},
   "source": [
    "### 2. Tuples"
   ]
  },
  {
   "cell_type": "code",
   "execution_count": 23,
   "id": "d02bc941",
   "metadata": {},
   "outputs": [
    {
     "data": {
      "text/plain": [
       "tuple"
      ]
     },
     "execution_count": 23,
     "metadata": {},
     "output_type": "execute_result"
    }
   ],
   "source": [
    "# Syntax for making empty tuple\n",
    "t = ()\n",
    "type(t)"
   ]
  },
  {
   "cell_type": "code",
   "execution_count": 24,
   "id": "fe5b123a",
   "metadata": {},
   "outputs": [
    {
     "name": "stdout",
     "output_type": "stream",
     "text": [
      "<class 'int'>\n"
     ]
    }
   ],
   "source": [
    "t = (4)\n",
    "# What is the type\n",
    "print(type(t))"
   ]
  },
  {
   "cell_type": "code",
   "execution_count": 25,
   "id": "50dbde41",
   "metadata": {},
   "outputs": [
    {
     "name": "stdout",
     "output_type": "stream",
     "text": [
      "<class 'tuple'>\n"
     ]
    }
   ],
   "source": [
    "# To make t a tuple\n",
    "t = (4,)\n",
    "print(type(t))"
   ]
  },
  {
   "cell_type": "code",
   "execution_count": 27,
   "id": "f8492cfb",
   "metadata": {},
   "outputs": [
    {
     "name": "stdout",
     "output_type": "stream",
     "text": [
      "3\n"
     ]
    }
   ],
   "source": [
    "# Tuples are just like list\n",
    "# These are sequential data types\n",
    "# These are immutable\n",
    "\n",
    "t = (6, 7, 4, 5, 55, 6, 6)\n",
    "x = t.count(6)\n",
    "print(x)"
   ]
  },
  {
   "cell_type": "code",
   "execution_count": 29,
   "id": "bbc72e66",
   "metadata": {},
   "outputs": [
    {
     "data": {
      "text/plain": [
       "0"
      ]
     },
     "execution_count": 29,
     "metadata": {},
     "output_type": "execute_result"
    }
   ],
   "source": [
    "# We can check index\n",
    "t.index(6) # Gives index of first occurence"
   ]
  },
  {
   "cell_type": "code",
   "execution_count": 31,
   "id": "a7edfb18",
   "metadata": {},
   "outputs": [
    {
     "name": "stdout",
     "output_type": "stream",
     "text": [
      "[0, 1, 3, 4, 6, 7]\n",
      "\n",
      "4\n",
      "4\n",
      "4\n",
      "4\n",
      "7\n",
      "7\n"
     ]
    }
   ],
   "source": [
    "# Practice question\n",
    "# A tuple is given to you t = (4, 4, 5, 4, 4, 5, 7, 7, 8, 9, 10, 1, 2, 1, 11, 1, 2)\n",
    "# Choose any two numbers of your choice, and then return a list containing all the indices where the occurences of these two particular numbers are there\n",
    "\n",
    "\n",
    "t = (4, 4, 5, 4, 4, 5, 7, 7, 8, 9, 10, 1, 2, 1, 11, 1, 2)\n",
    "# 4, 7 (Choice)\n",
    "# Make an empty list\n",
    "indices = []\n",
    "for i in range(len(t)):\n",
    "    if t[i] == 4 or t[i] == 7:\n",
    "        indices.append(i)\n",
    "\n",
    "print(indices)\n",
    "print()\n",
    "for j in indices:\n",
    "    print(t[j])"
   ]
  },
  {
   "cell_type": "markdown",
   "id": "824a93d8",
   "metadata": {},
   "source": [
    "### 3. Dictionary"
   ]
  },
  {
   "cell_type": "code",
   "execution_count": 32,
   "id": "b0204e61",
   "metadata": {},
   "outputs": [
    {
     "name": "stdout",
     "output_type": "stream",
     "text": [
      "<class 'dict'>\n"
     ]
    }
   ],
   "source": [
    "# Empty dictionary\n",
    "\n",
    "d1 = dict()\n",
    "print(type(d1))"
   ]
  },
  {
   "cell_type": "code",
   "execution_count": 33,
   "id": "95dfdf90",
   "metadata": {},
   "outputs": [
    {
     "name": "stdout",
     "output_type": "stream",
     "text": [
      "<class 'dict'>\n"
     ]
    }
   ],
   "source": [
    "# Another of making empty dict\n",
    "d2 = {}\n",
    "print(type(d2))"
   ]
  },
  {
   "cell_type": "code",
   "execution_count": 35,
   "id": "7e63eb21",
   "metadata": {},
   "outputs": [
    {
     "name": "stdout",
     "output_type": "stream",
     "text": [
      "7.42\n",
      "9.2\n"
     ]
    }
   ],
   "source": [
    "# In dictionary we have key value pairs\n",
    "# First element is key, second is value\n",
    "# In terms of DSA it is hashmap\n",
    "\n",
    "cgpa = {\"23bai10338\":7.42, \"23bai10361\":7.33, \"23bce11680\":9.2}\n",
    "# We can use the key to access particular value\n",
    "\n",
    "print(cgpa[\"23bai10338\"])\n",
    "print(cgpa[\"23bce11680\"])"
   ]
  },
  {
   "cell_type": "code",
   "execution_count": 36,
   "id": "7c03df68",
   "metadata": {},
   "outputs": [
    {
     "name": "stdout",
     "output_type": "stream",
     "text": [
      "{'23bai10338': 8.9, '23bai10361': 7.33, '23bce11680': 9.2}\n"
     ]
    }
   ],
   "source": [
    "# Just like lists, or strings, we can use indexing to reassign new value at a particular key\n",
    "\n",
    "cgpa[\"23bai10338\"] = 8.9\n",
    "print(cgpa)"
   ]
  },
  {
   "cell_type": "code",
   "execution_count": 38,
   "id": "f140d603",
   "metadata": {},
   "outputs": [
    {
     "name": "stdout",
     "output_type": "stream",
     "text": [
      "23bai10338 -> 8.9\n",
      "23bai10361 -> 7.33\n",
      "23bce11680 -> 9.2\n"
     ]
    }
   ],
   "source": [
    "# Using for loop with dictionary\n",
    "for k in cgpa:\n",
    "    # this k is the key\n",
    "    print(f\"{k} -> {cgpa[k]}\")"
   ]
  },
  {
   "cell_type": "code",
   "execution_count": 46,
   "id": "1cabe087",
   "metadata": {},
   "outputs": [
    {
     "data": {
      "text/plain": [
       "['23bai10338', '23bai10361', '23bce11680']"
      ]
     },
     "execution_count": 46,
     "metadata": {},
     "output_type": "execute_result"
    }
   ],
   "source": [
    "# Some methods of dictionary\n",
    "list(cgpa.keys())"
   ]
  },
  {
   "cell_type": "code",
   "execution_count": 41,
   "id": "07721398",
   "metadata": {},
   "outputs": [
    {
     "data": {
      "text/plain": [
       "dict_values([8.9, 7.33, 9.2])"
      ]
     },
     "execution_count": 41,
     "metadata": {},
     "output_type": "execute_result"
    }
   ],
   "source": [
    "cgpa.values()"
   ]
  },
  {
   "cell_type": "code",
   "execution_count": 45,
   "id": "6d344043",
   "metadata": {},
   "outputs": [
    {
     "name": "stdout",
     "output_type": "stream",
     "text": [
      "None\n"
     ]
    }
   ],
   "source": [
    "crcl = {\n",
    "    # We can nest lists or other dtypes in dictionaries\n",
    "    \"Monday\":[\"Eggs\", \"Chicken\"],\n",
    "    \"Tuesday\":[\"Veg food only\"],\n",
    "    \"Wednesday\":[\"Chicken\", \"Roti with ghee\"]\n",
    "}\n",
    "\n",
    "# Trying to access a key which is not present\n",
    "# crcl[\"Thursday\"] -> Throws key error\n",
    "\n",
    "# We have a method get\n",
    "# If the key is not there, it won't show error\n",
    "print(crcl.get(\"Sunday\"))"
   ]
  },
  {
   "cell_type": "markdown",
   "id": "26c0861b",
   "metadata": {},
   "source": [
    "### 4. Sets"
   ]
  },
  {
   "cell_type": "code",
   "execution_count": 47,
   "id": "0d77574e",
   "metadata": {},
   "outputs": [
    {
     "name": "stdout",
     "output_type": "stream",
     "text": [
      "set()\n"
     ]
    }
   ],
   "source": [
    "# Empty set\n",
    "k = set()\n",
    "v = {} # This is not empty set, this is dictionary\n",
    "\n",
    "print(k)"
   ]
  },
  {
   "cell_type": "code",
   "execution_count": 48,
   "id": "88ee74e6",
   "metadata": {},
   "outputs": [
    {
     "name": "stdout",
     "output_type": "stream",
     "text": [
      "{1, 2, 3, 4, 5, 10}\n"
     ]
    }
   ],
   "source": [
    "# In sets items are not repeated\n",
    "s1 = {1, 2, 3, 4, 5, 2, 2, 2, 2, 2, 2, 2, 2, 10}\n",
    "print(s1)\n"
   ]
  },
  {
   "cell_type": "code",
   "execution_count": 54,
   "id": "5cc8fc00",
   "metadata": {},
   "outputs": [
    {
     "name": "stdout",
     "output_type": "stream",
     "text": [
      "{'F', 'D', 'B', 'S', 'E', 'C', 'A'}\n"
     ]
    }
   ],
   "source": [
    "# Typecasting a list into set\n",
    "grades = [\"A\", \"B\", \"C\", \"A\", \"D\", \"E\", \"S\", \"S\", \"A\", \"F\", \"F\", \"A\"]\n",
    "\n",
    "# set is built in function to type caste\n",
    "print(set(grades))\n",
    "\n",
    "# Note\n",
    "# Set has no particular order"
   ]
  },
  {
   "cell_type": "code",
   "execution_count": 56,
   "id": "1959840a",
   "metadata": {},
   "outputs": [
    {
     "data": {
      "text/plain": [
       "[0, 1, 2, 3, 4, 5, 6, 7, 8, 9]"
      ]
     },
     "execution_count": 56,
     "metadata": {},
     "output_type": "execute_result"
    }
   ],
   "source": [
    "list(range(0,10))"
   ]
  },
  {
   "cell_type": "code",
   "execution_count": 59,
   "id": "d9b23c51",
   "metadata": {},
   "outputs": [
    {
     "name": "stdout",
     "output_type": "stream",
     "text": [
      "A\n",
      "B\n",
      "C\n",
      "A\n",
      "D\n",
      "E\n",
      "S\n",
      "S\n",
      "A\n",
      "F\n",
      "F\n",
      "A\n"
     ]
    }
   ],
   "source": [
    "for i in grades:\n",
    "    print(i)\n",
    "\n",
    "# The reason we are able to iterate over sets is that it uses hashmap or dictionary in the backend (Important)"
   ]
  },
  {
   "cell_type": "code",
   "execution_count": 61,
   "id": "0168b286",
   "metadata": {},
   "outputs": [
    {
     "data": {
      "text/plain": [
       "['A', 'B', 'C', 'A', 'D', 'E', 'S', 'S', 'A', 'F', 'F', 'A']"
      ]
     },
     "execution_count": 61,
     "metadata": {},
     "output_type": "execute_result"
    }
   ],
   "source": [
    "grades\n",
    "# It is unordered\n",
    "# It looks ordered when displaying because of the use of hash table in the backend"
   ]
  },
  {
   "cell_type": "code",
   "execution_count": 62,
   "id": "7e997786",
   "metadata": {},
   "outputs": [
    {
     "data": {
      "text/plain": [
       "{4, 5, 6, 7, 8, 9}"
      ]
     },
     "execution_count": 62,
     "metadata": {},
     "output_type": "execute_result"
    }
   ],
   "source": [
    "# Set has all methods for intersection, union, difference etc.\n",
    "s1 = {4,5,6}\n",
    "s2 = {5,6,7,8,9}\n",
    "\n",
    "s1.union(s2)"
   ]
  },
  {
   "cell_type": "code",
   "execution_count": 64,
   "id": "0e319323",
   "metadata": {},
   "outputs": [
    {
     "data": {
      "text/plain": [
       "{4, 5, 6}"
      ]
     },
     "execution_count": 64,
     "metadata": {},
     "output_type": "execute_result"
    }
   ],
   "source": [
    "s1 # s1 is still the same"
   ]
  },
  {
   "cell_type": "code",
   "execution_count": 65,
   "id": "c502d13f",
   "metadata": {},
   "outputs": [
    {
     "name": "stdout",
     "output_type": "stream",
     "text": [
      "{4, 5, 6, 7, 8, 9}\n"
     ]
    }
   ],
   "source": [
    "# But if I want to update s1 and take union of s1 and s2 at the same time\n",
    "s1.update(s2)\n",
    "print(s1)"
   ]
  }
 ],
 "metadata": {
  "kernelspec": {
   "display_name": "Python 3",
   "language": "python",
   "name": "python3"
  },
  "language_info": {
   "codemirror_mode": {
    "name": "ipython",
    "version": 3
   },
   "file_extension": ".py",
   "mimetype": "text/x-python",
   "name": "python",
   "nbconvert_exporter": "python",
   "pygments_lexer": "ipython3",
   "version": "3.12.0"
  }
 },
 "nbformat": 4,
 "nbformat_minor": 5
}
