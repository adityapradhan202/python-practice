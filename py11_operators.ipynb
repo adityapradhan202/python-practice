{
 "cells": [
  {
   "cell_type": "markdown",
   "id": "f659146a",
   "metadata": {},
   "source": [
    "### 1. Arithmetic operators"
   ]
  },
  {
   "cell_type": "code",
   "execution_count": null,
   "id": "93997091",
   "metadata": {},
   "outputs": [],
   "source": [
    "# Arithmetric operators\n",
    "# +, -, *, /, //, %, **"
   ]
  },
  {
   "cell_type": "code",
   "execution_count": 4,
   "id": "0b09138d",
   "metadata": {},
   "outputs": [
    {
     "data": {
      "text/plain": [
       "19"
      ]
     },
     "execution_count": 4,
     "metadata": {},
     "output_type": "execute_result"
    }
   ],
   "source": [
    "a = 9\n",
    "b = 10\n",
    "a + b"
   ]
  },
  {
   "cell_type": "code",
   "execution_count": 6,
   "id": "674a89c9",
   "metadata": {},
   "outputs": [
    {
     "data": {
      "text/plain": [
       "(-1, 1)"
      ]
     },
     "execution_count": 6,
     "metadata": {},
     "output_type": "execute_result"
    }
   ],
   "source": [
    "(a - b), (b - a)"
   ]
  },
  {
   "cell_type": "code",
   "execution_count": 7,
   "id": "1e30a552",
   "metadata": {},
   "outputs": [
    {
     "data": {
      "text/plain": [
       "90"
      ]
     },
     "execution_count": 7,
     "metadata": {},
     "output_type": "execute_result"
    }
   ],
   "source": [
    "a * b"
   ]
  },
  {
   "cell_type": "code",
   "execution_count": 8,
   "id": "72ea4776",
   "metadata": {},
   "outputs": [
    {
     "data": {
      "text/plain": [
       "0.9"
      ]
     },
     "execution_count": 8,
     "metadata": {},
     "output_type": "execute_result"
    }
   ],
   "source": [
    "a / b"
   ]
  },
  {
   "cell_type": "code",
   "execution_count": 9,
   "id": "5e209a3a",
   "metadata": {},
   "outputs": [
    {
     "data": {
      "text/plain": [
       "0"
      ]
     },
     "execution_count": 9,
     "metadata": {},
     "output_type": "execute_result"
    }
   ],
   "source": [
    "a // b"
   ]
  },
  {
   "cell_type": "code",
   "execution_count": 10,
   "id": "1d02d961",
   "metadata": {},
   "outputs": [
    {
     "data": {
      "text/plain": [
       "1"
      ]
     },
     "execution_count": 10,
     "metadata": {},
     "output_type": "execute_result"
    }
   ],
   "source": [
    "v = 5\n",
    "v2 = 2\n",
    "v % v2"
   ]
  },
  {
   "cell_type": "code",
   "execution_count": 11,
   "id": "8e8fd898",
   "metadata": {},
   "outputs": [
    {
     "data": {
      "text/plain": [
       "25"
      ]
     },
     "execution_count": 11,
     "metadata": {},
     "output_type": "execute_result"
    }
   ],
   "source": [
    "# Exponential \n",
    "v ** v2"
   ]
  },
  {
   "cell_type": "markdown",
   "id": "a2fb605b",
   "metadata": {},
   "source": [
    "### 2. Assignment operators"
   ]
  },
  {
   "cell_type": "code",
   "execution_count": 17,
   "id": "d04185b2",
   "metadata": {},
   "outputs": [
    {
     "data": {
      "text/plain": [
       "7"
      ]
     },
     "execution_count": 17,
     "metadata": {},
     "output_type": "execute_result"
    }
   ],
   "source": [
    "# =, +=, -=, /=, //=, *=, **=\n",
    "v += 1 # v = v + 1\n",
    "v"
   ]
  },
  {
   "cell_type": "markdown",
   "id": "6497f4f6",
   "metadata": {},
   "source": [
    "### 3. Relational operators (Comparision operators)"
   ]
  },
  {
   "cell_type": "code",
   "execution_count": 14,
   "id": "afbe694d",
   "metadata": {},
   "outputs": [],
   "source": [
    "a = 22\n",
    "b = 10\n",
    "c = 22\n",
    "d = 3\n",
    "e = 5"
   ]
  },
  {
   "cell_type": "code",
   "execution_count": null,
   "id": "8c654d16",
   "metadata": {},
   "outputs": [
    {
     "data": {
      "text/plain": [
       "True"
      ]
     },
     "execution_count": 18,
     "metadata": {},
     "output_type": "execute_result"
    }
   ],
   "source": [
    "# <=, >=, ==, >, <, !=\n",
    "a > b"
   ]
  },
  {
   "cell_type": "code",
   "execution_count": 19,
   "id": "ec90a788",
   "metadata": {},
   "outputs": [
    {
     "data": {
      "text/plain": [
       "True"
      ]
     },
     "execution_count": 19,
     "metadata": {},
     "output_type": "execute_result"
    }
   ],
   "source": [
    "a >= c"
   ]
  },
  {
   "cell_type": "code",
   "execution_count": 20,
   "id": "8f5ad966",
   "metadata": {},
   "outputs": [
    {
     "data": {
      "text/plain": [
       "False"
      ]
     },
     "execution_count": 20,
     "metadata": {},
     "output_type": "execute_result"
    }
   ],
   "source": [
    "a == e"
   ]
  },
  {
   "cell_type": "markdown",
   "id": "d8d9eafc",
   "metadata": {},
   "source": [
    "### 4. Logical operators"
   ]
  },
  {
   "cell_type": "code",
   "execution_count": 21,
   "id": "8c2f1510",
   "metadata": {},
   "outputs": [],
   "source": [
    "# and, or, not, xor"
   ]
  },
  {
   "cell_type": "code",
   "execution_count": 22,
   "id": "c5817695",
   "metadata": {},
   "outputs": [],
   "source": [
    "a = 22\n",
    "b = 10\n",
    "c = 22\n",
    "d = 3\n",
    "e = 5"
   ]
  },
  {
   "cell_type": "code",
   "execution_count": 23,
   "id": "6b48465b",
   "metadata": {},
   "outputs": [
    {
     "data": {
      "text/plain": [
       "False"
      ]
     },
     "execution_count": 23,
     "metadata": {},
     "output_type": "execute_result"
    }
   ],
   "source": [
    "(a > b) and (b == c)\n",
    "# True and False"
   ]
  },
  {
   "cell_type": "code",
   "execution_count": 24,
   "id": "4ea11e6d",
   "metadata": {},
   "outputs": [
    {
     "data": {
      "text/plain": [
       "False"
      ]
     },
     "execution_count": 24,
     "metadata": {},
     "output_type": "execute_result"
    }
   ],
   "source": [
    "(c < d) and (d == 5)\n",
    "# False and False"
   ]
  },
  {
   "cell_type": "code",
   "execution_count": 25,
   "id": "803f3b7c",
   "metadata": {},
   "outputs": [],
   "source": [
    "# True and True -> True\n",
    "# True and False -> False\n",
    "# False and False -> False"
   ]
  },
  {
   "cell_type": "code",
   "execution_count": 26,
   "id": "58af975a",
   "metadata": {},
   "outputs": [],
   "source": [
    "a = 22\n",
    "b = 10\n",
    "c = 22\n",
    "d = 3\n",
    "e = 5\n",
    "# In case of or\n",
    "# True - Chlorine water\n",
    "# False - Dirty water\n",
    "\n",
    "# True or False -> True\n",
    "# False or False -> False\n",
    "# True or True -> True"
   ]
  },
  {
   "cell_type": "code",
   "execution_count": 27,
   "id": "9476ccd2",
   "metadata": {},
   "outputs": [
    {
     "data": {
      "text/plain": [
       "True"
      ]
     },
     "execution_count": 27,
     "metadata": {},
     "output_type": "execute_result"
    }
   ],
   "source": [
    "(a > b) or (b == c)"
   ]
  },
  {
   "cell_type": "code",
   "execution_count": 28,
   "id": "8d7b08b7",
   "metadata": {},
   "outputs": [
    {
     "data": {
      "text/plain": [
       "False"
      ]
     },
     "execution_count": 28,
     "metadata": {},
     "output_type": "execute_result"
    }
   ],
   "source": [
    "not(a > b)\n",
    "# not True -> Means False"
   ]
  }
 ],
 "metadata": {
  "kernelspec": {
   "display_name": "Python 3",
   "language": "python",
   "name": "python3"
  },
  "language_info": {
   "codemirror_mode": {
    "name": "ipython",
    "version": 3
   },
   "file_extension": ".py",
   "mimetype": "text/x-python",
   "name": "python",
   "nbconvert_exporter": "python",
   "pygments_lexer": "ipython3",
   "version": "3.12.0"
  }
 },
 "nbformat": 4,
 "nbformat_minor": 5
}
